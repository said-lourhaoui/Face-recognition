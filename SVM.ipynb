{
 "cells": [
  {
   "cell_type": "markdown",
   "metadata": {},
   "source": [
    "# SVM for classification"
   ]
  },
  {
   "cell_type": "code",
   "execution_count": 1,
   "metadata": {},
   "outputs": [],
   "source": [
    "import numpy as np\n",
    "import matplotlib.pyplot as plt\n",
    "import mpl_toolkits.mplot3d as mplot3d\n",
    "import os\n",
    "from sklearn.svm import LinearSVC"
   ]
  },
  {
   "cell_type": "markdown",
   "metadata": {},
   "source": [
    "### Choosing 25 subjects from 68 in the CMU PIE dataset"
   ]
  },
  {
   "cell_type": "code",
   "execution_count": 2,
   "metadata": {},
   "outputs": [
    {
     "name": "stdout",
     "output_type": "stream",
     "text": [
      "The selected subjects are :\n",
      " ['49' '36' '58' '42' '68' '29' '63' '65' '30' '44' '11' '47' '12' '31'\n",
      " '62' '3' '19' '35' '7' '41' '57' '38' '24' '51' '26']\n"
     ]
    }
   ],
   "source": [
    "PIE_subjects = os.listdir(\"PIE\")\n",
    "selected_subjects = np.random.choice(PIE_subjects, size = 25, replace = False)\n",
    "train_photos_path = []\n",
    "test_photos_path  = []\n",
    "for subject in selected_subjects:\n",
    "    subject_photos = os.listdir(\"PIE\"+\"/\"+subject)\n",
    "    subject_train  = np.random.choice(subject_photos, size = int(0.7*len(subject_photos)), replace=False)\n",
    "    subject_test   = np.setdiff1d(subject_photos, subject_train)\n",
    "    for photo in subject_train :\n",
    "        train_photos_path.append(\"PIE\"+'/'+subject+'/'+photo)\n",
    "    for photo in subject_test :\n",
    "        test_photos_path.append(\"PIE\"+'/'+subject+'/'+photo)\n",
    "\n",
    "train_photos_array =  np.array([plt.imread(photo) for photo in train_photos_path])\n",
    "test_photos_array =  np.array([plt.imread(photo) for photo in test_photos_path])\n",
    "print(\"The selected subjects are :\\n\", selected_subjects)"
   ]
  },
  {
   "cell_type": "code",
   "execution_count": 3,
   "metadata": {},
   "outputs": [],
   "source": [
    "X_train = train_photos_array\n",
    "Y_train = np.array([path.split('/')[-2] for path in train_photos_path])\n",
    "X_test  = test_photos_array\n",
    "Y_test  = np.array([path.split('/')[-2] for path in test_photos_path])"
   ]
  },
  {
   "cell_type": "markdown",
   "metadata": {},
   "source": [
    "### reading my selfies"
   ]
  },
  {
   "cell_type": "code",
   "execution_count": 4,
   "metadata": {},
   "outputs": [],
   "source": [
    "selfies = os.listdir(\"selfies\")\n",
    "selfies_path = []\n",
    "for selfie in selfies :\n",
    "    selfies_path.append(\"selfies\" + '/' + selfie)\n",
    "train_selfies_path = np.random.choice(selfies_path, size = 7, replace=False)\n",
    "test_selfies_path  = np.setdiff1d(selfies_path, train_selfies_path)\n",
    "\n",
    "#train_selfies_array = np.array([plt.imread(selfie) for selfie in train_selfies_name])\n",
    "#test_selfies_array = np.array([plt.imread(selfie) for selfie in test_selfies_name])"
   ]
  },
  {
   "cell_type": "code",
   "execution_count": 5,
   "metadata": {},
   "outputs": [],
   "source": [
    "X_train_selfies = np.array([plt.imread(selfie) for selfie in train_selfies_path])\n",
    "X_test_selfies  = np.array([plt.imread(selfie) for selfie in test_selfies_path])\n",
    "\n",
    "Y_train_selfies = np.array([69 for i in range(7)])\n",
    "Y_test_selfies  = np.array([69 for i in range(3)])"
   ]
  },
  {
   "cell_type": "code",
   "execution_count": 6,
   "metadata": {},
   "outputs": [],
   "source": [
    "_, img_size1, img_size2 = X_train.shape\n",
    "num_features = img_size1*img_size2"
   ]
  },
  {
   "cell_type": "code",
   "execution_count": 7,
   "metadata": {},
   "outputs": [],
   "source": [
    "# Add the selfies to X_Train, X_test and Y_train, Y_test\n",
    "X_train = np.concatenate((X_train, X_train_selfies), axis=0).reshape((len(X_train)+7, num_features))\n",
    "X_test  = np.concatenate((X_test, X_test_selfies), axis=0).reshape((len(X_test)+3, num_features))\n",
    "Y_train = np.concatenate((Y_train, Y_train_selfies), axis=0)\n",
    "Y_test  = np.concatenate((Y_test, Y_test_selfies), axis=0)"
   ]
  },
  {
   "cell_type": "code",
   "execution_count": 8,
   "metadata": {},
   "outputs": [],
   "source": [
    "# The overall data\n",
    "X = np.concatenate((X_train, X_test), axis=0)\n",
    "Y = np.concatenate((Y_train, Y_test), axis=0)"
   ]
  },
  {
   "cell_type": "markdown",
   "metadata": {},
   "source": [
    "### Apply PCA"
   ]
  },
  {
   "cell_type": "code",
   "execution_count": 9,
   "metadata": {},
   "outputs": [],
   "source": [
    "def PCA(data):\n",
    "    data_centered = data - np.mean(data, axis=0)\n",
    "    cov_m = np.cov(data_centered.T)\n",
    "    eigen_vals, eigen_vecs = np.linalg.eig(cov_m)\n",
    "    # find the indexes of the highest eignevalues\n",
    "    eigen_vals_indexes = np.argsort(abs(eigen_vals))[::-1]\n",
    "    # sort the eigen values and vectors accordinly\n",
    "    sorted_eigen_vals      = eigen_vals[eigen_vals_indexes]\n",
    "    sorted_eigen_vecs      = eigen_vecs[:,eigen_vals_indexes]\n",
    "    return sorted_eigen_vals, sorted_eigen_vecs"
   ]
  },
  {
   "cell_type": "code",
   "execution_count": 10,
   "metadata": {},
   "outputs": [],
   "source": [
    "train_eigen_vals, train_eigen_vecs = PCA(X_train)"
   ]
  },
  {
   "cell_type": "markdown",
   "metadata": {},
   "source": [
    "#### Penalty parameter"
   ]
  },
  {
   "cell_type": "code",
   "execution_count": 11,
   "metadata": {},
   "outputs": [],
   "source": [
    "C = [0.01, 0.1, 1]"
   ]
  },
  {
   "cell_type": "markdown",
   "metadata": {},
   "source": [
    "### Applying linear SVM"
   ]
  },
  {
   "cell_type": "code",
   "execution_count": 12,
   "metadata": {},
   "outputs": [],
   "source": [
    "dims = [80, 200]\n",
    "mean_Xtrain = np.mean(X_train,axis=0)\n",
    "mean_Xtest  = np.mean(X_test,axis=0)"
   ]
  },
  {
   "cell_type": "code",
   "execution_count": 16,
   "metadata": {},
   "outputs": [
    {
     "name": "stdout",
     "output_type": "stream",
     "text": [
      "Dim : 80, c : 0.01\n",
      "The score is : 0.9700230591852421\n",
      "Dim : 80, c : 0.1\n",
      "The score is : 0.9807840122982321\n",
      "Dim : 80, c : 1\n",
      "The score is : 0.9761721752498078\n",
      "Dim : 200, c : 0.01\n",
      "The score is : 0.9846272098385856\n",
      "Dim : 200, c : 0.1\n",
      "The score is : 0.9884704073789393\n",
      "Dim : 200, c : 1\n",
      "The score is : 0.9884704073789393\n"
     ]
    }
   ],
   "source": [
    "for d in dims:\n",
    "    for c in C:\n",
    "        print(\"Dim : {}, c : {}\".format(d,c))\n",
    "        # Get the reduced X_train and X_test\n",
    "        reduced_X_train = np.dot(X_train - mean_Xtrain, train_eigen_vecs[:,:d]).real\n",
    "        reduced_X_test  = np.dot(X_test - mean_Xtest , train_eigen_vecs[:,:d]).real\n",
    "        \n",
    "        # Initialize the linear SVM classifier \n",
    "        svm = LinearSVC(random_state=0, C=c, max_iter = 100000 , dual = False)\n",
    "        # Train the model\n",
    "        svm.fit(reduced_X_train, Y_train)\n",
    "        Y_pred = svm.predict(reduced_X_test)\n",
    "        print(\"The score is :\",svm.score(reduced_X_test, Y_test))\n",
    "        "
   ]
  },
  {
   "cell_type": "code",
   "execution_count": null,
   "metadata": {},
   "outputs": [],
   "source": []
  }
 ],
 "metadata": {
  "kernelspec": {
   "display_name": "Python 3",
   "language": "python",
   "name": "python3"
  },
  "language_info": {
   "codemirror_mode": {
    "name": "ipython",
    "version": 3
   },
   "file_extension": ".py",
   "mimetype": "text/x-python",
   "name": "python",
   "nbconvert_exporter": "python",
   "pygments_lexer": "ipython3",
   "version": "3.8.3"
  }
 },
 "nbformat": 4,
 "nbformat_minor": 4
}
