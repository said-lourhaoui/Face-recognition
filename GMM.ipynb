{
 "cells": [
  {
   "cell_type": "markdown",
   "metadata": {},
   "source": [
    "# GMM for clustering"
   ]
  },
  {
   "cell_type": "code",
   "execution_count": 1,
   "metadata": {},
   "outputs": [],
   "source": [
    "import numpy as np\n",
    "import matplotlib.pyplot as plt\n",
    "import mpl_toolkits.mplot3d as mplot3d\n",
    "import os\n",
    "from sklearn.mixture import GaussianMixture"
   ]
  },
  {
   "cell_type": "markdown",
   "metadata": {},
   "source": [
    "### Choosing 25 subjects from 68 in the CMU PIE dataset"
   ]
  },
  {
   "cell_type": "code",
   "execution_count": 2,
   "metadata": {},
   "outputs": [
    {
     "name": "stdout",
     "output_type": "stream",
     "text": [
      "The selected subjects are :\n",
      " ['27' '47' '5' '55' '7' '6' '20' '38' '4' '19' '17' '59' '57' '26' '66'\n",
      " '46' '35' '50' '34' '16' '28' '14' '49' '29' '42']\n"
     ]
    }
   ],
   "source": [
    "PIE_subjects = os.listdir(\"PIE\")\n",
    "selected_subjects = np.random.choice(PIE_subjects, size = 25, replace = False)\n",
    "train_photos_path = []\n",
    "test_photos_path  = []\n",
    "for subject in selected_subjects:\n",
    "    subject_photos = os.listdir(\"PIE\"+\"/\"+subject)\n",
    "    subject_train  = np.random.choice(subject_photos, size = int(0.7*len(subject_photos)), replace=False)\n",
    "    subject_test   = np.setdiff1d(subject_photos, subject_train)\n",
    "    for photo in subject_train :\n",
    "        train_photos_path.append(\"PIE\"+'/'+subject+'/'+photo)\n",
    "    for photo in subject_test :\n",
    "        test_photos_path.append(\"PIE\"+'/'+subject+'/'+photo)\n",
    "\n",
    "train_photos_array =  np.array([plt.imread(photo) for photo in train_photos_path])\n",
    "test_photos_array =  np.array([plt.imread(photo) for photo in test_photos_path])\n",
    "print(\"The selected subjects are :\\n\", selected_subjects)"
   ]
  },
  {
   "cell_type": "code",
   "execution_count": 3,
   "metadata": {},
   "outputs": [],
   "source": [
    "X_train = train_photos_array\n",
    "Y_train = np.array([path.split('/')[-2] for path in train_photos_path])\n",
    "X_test  = test_photos_array\n",
    "Y_test  = np.array([path.split('/')[-2] for path in test_photos_path])"
   ]
  },
  {
   "cell_type": "markdown",
   "metadata": {},
   "source": [
    "### reading my selfies"
   ]
  },
  {
   "cell_type": "code",
   "execution_count": 4,
   "metadata": {},
   "outputs": [],
   "source": [
    "selfies = os.listdir(\"selfies\")\n",
    "selfies_path = []\n",
    "for selfie in selfies :\n",
    "    selfies_path.append(\"selfies\" + '/' + selfie)\n",
    "train_selfies_path = np.random.choice(selfies_path, size = 7, replace=False)\n",
    "test_selfies_path  = np.setdiff1d(selfies_path, train_selfies_path)\n",
    "\n",
    "#train_selfies_array = np.array([plt.imread(selfie) for selfie in train_selfies_name])\n",
    "#test_selfies_array = np.array([plt.imread(selfie) for selfie in test_selfies_name])"
   ]
  },
  {
   "cell_type": "code",
   "execution_count": 5,
   "metadata": {},
   "outputs": [],
   "source": [
    "X_train_selfies = np.array([plt.imread(selfie) for selfie in train_selfies_path])\n",
    "X_test_selfies  = np.array([plt.imread(selfie) for selfie in test_selfies_path])\n",
    "\n",
    "Y_train_selfies = np.array([69 for i in range(7)])\n",
    "Y_test_selfies  = np.array([69 for i in range(3)])"
   ]
  },
  {
   "cell_type": "code",
   "execution_count": 6,
   "metadata": {},
   "outputs": [],
   "source": [
    "_, img_size1, img_size2 = X_train.shape\n",
    "num_features = img_size1*img_size2"
   ]
  },
  {
   "cell_type": "code",
   "execution_count": 7,
   "metadata": {},
   "outputs": [],
   "source": [
    "# Add the selfies to X_Train, X_test and Y_train, Y_test\n",
    "X_train = np.concatenate((X_train, X_train_selfies), axis=0).reshape((len(X_train)+7, num_features))\n",
    "X_test  = np.concatenate((X_test, X_test_selfies), axis=0).reshape((len(X_test)+3, num_features))\n",
    "Y_train = np.concatenate((Y_train, Y_train_selfies), axis=0)\n",
    "Y_test  = np.concatenate((Y_test, Y_test_selfies), axis=0)"
   ]
  },
  {
   "cell_type": "code",
   "execution_count": 8,
   "metadata": {},
   "outputs": [],
   "source": [
    "# The overall data\n",
    "X = np.concatenate((X_train, X_test), axis=0)\n",
    "Y = np.concatenate((Y_train, Y_test), axis=0)"
   ]
  },
  {
   "cell_type": "markdown",
   "metadata": {},
   "source": [
    "### Apply PCA"
   ]
  },
  {
   "cell_type": "code",
   "execution_count": 9,
   "metadata": {},
   "outputs": [],
   "source": [
    "def PCA(data):\n",
    "    data_centered = data - np.mean(data, axis=0)\n",
    "    cov_m = np.cov(data_centered.T)\n",
    "    eigen_vals, eigen_vecs = np.linalg.eig(cov_m)\n",
    "    # find the indexes of the highest eignevalues\n",
    "    eigen_vals_indexes = np.argsort(abs(eigen_vals))[::-1]\n",
    "    # sort the eigen values and vectors accordinly\n",
    "    sorted_eigen_vals      = eigen_vals[eigen_vals_indexes]\n",
    "    sorted_eigen_vecs      = eigen_vecs[:,eigen_vals_indexes]\n",
    "    return sorted_eigen_vals, sorted_eigen_vecs"
   ]
  },
  {
   "cell_type": "code",
   "execution_count": 10,
   "metadata": {},
   "outputs": [],
   "source": [
    "train_eigen_vals, train_eigen_vecs = PCA(X_train)"
   ]
  },
  {
   "cell_type": "markdown",
   "metadata": {},
   "source": [
    "### Apply GMM"
   ]
  },
  {
   "cell_type": "code",
   "execution_count": 11,
   "metadata": {},
   "outputs": [],
   "source": [
    "clusters_d = []"
   ]
  },
  {
   "cell_type": "code",
   "execution_count": 12,
   "metadata": {},
   "outputs": [
    {
     "name": "stdout",
     "output_type": "stream",
     "text": [
      "Dim :  80\n",
      "Initialization 0\n",
      "  Iteration 10\n",
      "  Iteration 20\n",
      "  Iteration 30\n",
      "Initialization converged: True\n",
      "Dim :  200\n",
      "Initialization 0\n",
      "Initialization converged: True\n"
     ]
    }
   ],
   "source": [
    "for d in [80, 200]:\n",
    "    print(\"Dim : \", d)\n",
    "    # Get the reduced X_train and X_test\n",
    "    reduced_X_train = np.dot(X_train - np.mean(X_train, axis=0), train_eigen_vecs[:,:d]).real\n",
    "\n",
    "    # Initiliaze the GMM\n",
    "    gmm = GaussianMixture(n_components = 3, verbose=1)\n",
    "    gmm.fit(reduced_X_train)\n",
    "    \n",
    "    clusters_d.append(gmm.predict(reduced_X_train))\n",
    "    #print(cluster.shape)"
   ]
  },
  {
   "cell_type": "code",
   "execution_count": 13,
   "metadata": {},
   "outputs": [
    {
     "data": {
      "image/png": "[encoded data removed]",
      "text/plain": [
       "<Figure size 432x288 with 3 Axes>"
      ]
     },
     "metadata": {
      "needs_background": "light"
     },
     "output_type": "display_data"
    },
    {
     "data": {
      "image/png": "[encoded data removed]",
      "text/plain": [
       "<Figure size 432x288 with 3 Axes>"
      ]
     },
     "metadata": {
      "needs_background": "light"
     },
     "output_type": "display_data"
    }
   ],
   "source": [
    "for cluster in clusters_d :\n",
    "    fig=plt.figure()\n",
    "    for i in range(3):\n",
    "        vec_img = X_train[cluster==i].reshape(-1,img_size1, img_size2)[0]\n",
    "        ax = fig.add_subplot(1, 3, i+1)\n",
    "        ax.title.set_text('image cluster '+str(i))\n",
    "        plt.imshow(vec_img,cmap='gray')"
   ]
  },
  {
   "cell_type": "code",
   "execution_count": null,
   "metadata": {},
   "outputs": [],
   "source": [
    "\n"
   ]
  }
 ],
 "metadata": {
  "kernelspec": {
   "display_name": "Python 3",
   "language": "python",
   "name": "python3"
  },
  "language_info": {
   "codemirror_mode": {
    "name": "ipython",
    "version": 3
   },
   "file_extension": ".py",
   "mimetype": "text/x-python",
   "name": "python",
   "nbconvert_exporter": "python",
   "pygments_lexer": "ipython3",
   "version": "3.8.3"
  }
 },
 "nbformat": 4,
 "nbformat_minor": 4
}
